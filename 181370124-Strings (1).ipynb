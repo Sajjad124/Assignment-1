{
 "cells": [
  {
   "cell_type": "markdown",
   "id": "c34f76ae",
   "metadata": {},
   "source": [
    "# a. Print ,"
   ]
  },
  {
   "cell_type": "code",
   "execution_count": 10,
   "id": "f743c963",
   "metadata": {},
   "outputs": [
    {
     "name": "stdout",
     "output_type": "stream",
     "text": [
      "Hum honge kamyab, hum honge kamyab aik din \n",
      "\n"
     ]
    }
   ],
   "source": [
    "sentence = \"Hum honge kamyab, hum honge kamyab aik din\"\n",
    "print(sentence, \"\\n\")"
   ]
  },
  {
   "cell_type": "markdown",
   "id": "397776aa",
   "metadata": {},
   "source": [
    "# b. Print substring ‘aik din’"
   ]
  },
  {
   "cell_type": "code",
   "execution_count": 9,
   "id": "6b1761ef",
   "metadata": {},
   "outputs": [
    {
     "name": "stdout",
     "output_type": "stream",
     "text": [
      "aik din \n",
      "\n"
     ]
    }
   ],
   "source": [
    "sentence = \"Hum honge kamyab, hum honge kamyab aik din\"\n",
    "word = \"aik din\"\n",
    "start_index =sentence.find(word)\n",
    "length = len(word)\n",
    "extracted_string= sentence[start_index:start_index+length]\n",
    "print(extracted_string, \"\\n\")"
   ]
  },
  {
   "cell_type": "markdown",
   "id": "6a1ace11",
   "metadata": {},
   "source": [
    "# c. Print ‘honge kamyab’"
   ]
  },
  {
   "cell_type": "code",
   "execution_count": 8,
   "id": "ae568389",
   "metadata": {},
   "outputs": [
    {
     "name": "stdout",
     "output_type": "stream",
     "text": [
      "honge kamyab \n",
      "\n"
     ]
    }
   ],
   "source": [
    "sentence = \"Hum honge kamyab, hum honge kamyab aik din\"\n",
    "word = \"honge kamyab\"\n",
    "st_index =sentence.find(word)\n",
    "length = len(word)\n",
    "extracted_string= sentence[st_index:st_index+length]\n",
    "print(extracted_string, \"\\n\")"
   ]
  },
  {
   "cell_type": "markdown",
   "id": "a51ca5c0",
   "metadata": {},
   "source": [
    "# d. Find and print the index of ‘hum’"
   ]
  },
  {
   "cell_type": "code",
   "execution_count": 7,
   "id": "132649d0",
   "metadata": {},
   "outputs": [
    {
     "name": "stdout",
     "output_type": "stream",
     "text": [
      "18\n"
     ]
    }
   ],
   "source": [
    "sentence = \"Hum honge kamyab, hum honge kamyab aik din\"\n",
    "word = \"hum\"\n",
    "start_index =sentence.index(word)\n",
    "print(start_index)"
   ]
  },
  {
   "cell_type": "markdown",
   "id": "298e1fff",
   "metadata": {},
   "source": [
    "# e. Prints the number of occurrences of hum"
   ]
  },
  {
   "cell_type": "code",
   "execution_count": 6,
   "id": "f2893ff9",
   "metadata": {},
   "outputs": [
    {
     "name": "stdout",
     "output_type": "stream",
     "text": [
      "1\n"
     ]
    }
   ],
   "source": [
    "sentence = \"Hum honge kamyab, hum honge kamyab aik din\"\n",
    "print(sentence.count(\"hum\")) #it will show one because python is case sensitive language"
   ]
  },
  {
   "cell_type": "markdown",
   "id": "5582c743",
   "metadata": {},
   "source": [
    "# f. Checks the membership of “LALALA”"
   ]
  },
  {
   "cell_type": "code",
   "execution_count": 5,
   "id": "3421ca27",
   "metadata": {},
   "outputs": [
    {
     "name": "stdout",
     "output_type": "stream",
     "text": [
      "Enter this string 'LALALA' LALALA\n",
      "Not a member \n",
      "\n"
     ]
    }
   ],
   "source": [
    "sentence = \"Hum honge kamyab, hum honge kamyab aik din\"\n",
    "input_word = input(\"Enter this string 'LALALA' \")\n",
    "if input_word in sentence:\n",
    "    print(\"It is the member of sentence\")\n",
    "else:\n",
    "    print(\"Not a member \\n\")"
   ]
  },
  {
   "cell_type": "markdown",
   "id": "450b9961",
   "metadata": {},
   "source": [
    "# g. Checks the membership of “,”"
   ]
  },
  {
   "cell_type": "code",
   "execution_count": 4,
   "id": "50dabbc6",
   "metadata": {},
   "outputs": [
    {
     "name": "stdout",
     "output_type": "stream",
     "text": [
      "\n",
      "Enter this special char ',' ,\n",
      "It is the member of sentence \n",
      "\n"
     ]
    }
   ],
   "source": [
    "sentence = \"Hum honge kamyab, hum honge kamyab aik din\"\n",
    "input_sp_ch = input(\"\\nEnter this special char ',' \")\n",
    "if input_sp_ch in sentence:\n",
    "    print(\"It is the member of sentence \\n\")\n",
    "else:\n",
    "    print(\"Not a member\")\n",
    "    "
   ]
  },
  {
   "cell_type": "markdown",
   "id": "94a0c12d",
   "metadata": {},
   "source": [
    "# h. Checks if “KAMYAB” not present in String."
   ]
  },
  {
   "cell_type": "code",
   "execution_count": 3,
   "id": "d0370c63",
   "metadata": {},
   "outputs": [
    {
     "name": "stdout",
     "output_type": "stream",
     "text": [
      "kamyab  is a member\n"
     ]
    }
   ],
   "source": [
    "sentence = \"Hum honge kamyab, hum honge kamyab aik din\"\n",
    "str = 'kamyab'\n",
    "if str not in sentence:\n",
    "    print(\"Not in String\")\n",
    "else:\n",
    "    print(str,\" is a member\")"
   ]
  },
  {
   "cell_type": "markdown",
   "id": "da8a52c6",
   "metadata": {},
   "source": [
    "# Prints ‘aik din’"
   ]
  },
  {
   "cell_type": "code",
   "execution_count": 2,
   "id": "4391ac7b",
   "metadata": {},
   "outputs": [
    {
     "name": "stdout",
     "output_type": "stream",
     "text": [
      "\n",
      " aik din \n",
      "\n"
     ]
    }
   ],
   "source": [
    "sentence = \"Hum honge kamyab, hum honge kamyab aik din\"\n",
    "word = \"aik din\"\n",
    "start_index =sentence.find(word)\n",
    "length = len(word)\n",
    "extracted_string= sentence[start_index:start_index+length]\n",
    "print(\"\\n\",extracted_string, \"\\n\")"
   ]
  },
  {
   "cell_type": "markdown",
   "id": "8c52148d",
   "metadata": {},
   "source": [
    "# Prints ‘kamyab’ using negative indexes."
   ]
  },
  {
   "cell_type": "code",
   "execution_count": 1,
   "id": "a4a2b6ed",
   "metadata": {},
   "outputs": [
    {
     "name": "stdout",
     "output_type": "stream",
     "text": [
      "kamyab\n"
     ]
    }
   ],
   "source": [
    "sentence = \"Hum honge kamyab, hum honge kamyab aik din\"\n",
    "print(sentence[-14:-8])"
   ]
  },
  {
   "cell_type": "code",
   "execution_count": null,
   "id": "bba994aa",
   "metadata": {},
   "outputs": [],
   "source": []
  },
  {
   "cell_type": "code",
   "execution_count": 16,
   "id": "91d3d848",
   "metadata": {},
   "outputs": [
    {
     "name": "stdout",
     "output_type": "stream",
     "text": [
      "Boom: SanDisk just dropped the world’s largest SD card\n",
      "\n",
      "\n",
      "7\n",
      "\n",
      "\n",
      "not a member\n",
      "\n",
      "\n",
      "New Message 1 :                        Boom: SanDisk just dropped the world’s largest SD card                       \n",
      "\n",
      "\n",
      "New message 2 :=  Boom:*SanDisk*just*dropped*the*world’s*largest*SD*card\n",
      "\n",
      "\n",
      "false\n",
      "\n",
      "\n",
      "not a member\n",
      "\n",
      "\n",
      " the world’\n",
      "\n",
      "\n",
      "Boom: SanDisk just dropped the world’s largest SD cardBoom: SanDisk just dropped the world’s largest SD card\n",
      "Boom:*SanDisk*just*dropped*the*world’s*largest*SD*cardBoom:*SanDisk*just*dropped*the*world’s*largest*SD*card\n"
     ]
    }
   ],
   "source": [
    "string = \"Boom: SanDisk just dropped the world’s largest SD card\"\n",
    "copymessage = string\n",
    "print(copymessage)\n",
    "print(\"\\n\")\n",
    "         \n",
    "\n",
    "print(len(string[7:14]))\n",
    "\n",
    "print(\"\\n\")\n",
    "\n",
    "if \"LA\" in string:\n",
    "    memCheck = \"is a member\"\n",
    "    print (memCheck)\n",
    "else:\n",
    "    memCheck = \"not a member\"\n",
    "    print(memCheck)\n",
    "\n",
    "print(\"\\n\")\n",
    "newstr = string.center(100)\n",
    "print(\"New Message 1 :\",newstr)\n",
    "\n",
    "print(\"\\n\")\n",
    "print(\"New message 2 := \", string.replace(' ' , '*'))\n",
    "\n",
    "print(\"\\n\")\n",
    "\n",
    "if \"ped\" in string[14:17]:\n",
    "    suffixCheck = \"true\"\n",
    "    print(suffixCheck)\n",
    "else:\n",
    "    suffixCheck =\"false\"\n",
    "    print(suffixCheck)   \n",
    "\n",
    "print(\"\\n\")\n",
    "if \"1TB\" in string:\n",
    "    print(\"member \")\n",
    "else:\n",
    "    print(\"not a member\")\n",
    "\n",
    "print(\"\\n\")\n",
    "randString=\" \"\n",
    "size = len(string)//2\n",
    "for i in range(size , 37):\n",
    "    randString = randString+string[i]\n",
    "print(randString)\n",
    "\n",
    "print(\"\\n\")\n",
    "word = string *2\n",
    "print(word)\n",
    "word2 = word.replace(' ', '*')\n",
    "#after replace\n",
    "print(word2)\n",
    "\n",
    "\n"
   ]
  }
 ],
 "metadata": {
  "kernelspec": {
   "display_name": "Python 3",
   "language": "python",
   "name": "python3"
  },
  "language_info": {
   "codemirror_mode": {
    "name": "ipython",
    "version": 3
   },
   "file_extension": ".py",
   "mimetype": "text/x-python",
   "name": "python",
   "nbconvert_exporter": "python",
   "pygments_lexer": "ipython3",
   "version": "3.8.8"
  }
 },
 "nbformat": 4,
 "nbformat_minor": 5
}
