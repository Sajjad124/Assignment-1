{
 "cells": [
  {
   "cell_type": "code",
   "execution_count": 1,
   "id": "1ef311b1",
   "metadata": {},
   "outputs": [],
   "source": [
    "encryption_library = {'A':'!','B':'@','C':'#','D':'$','E':'%','F':'^','G':'&','H':'*','I':'(',\n",
    "                      'J':')','K':'-','L':'_','M':'+','N':'=','O':'`','P':'~','Q':'{','R':'[',\n",
    "                      'S':'}','T':']','U':':','V':';','W':'\"','X':'<','Y':'>','Z':'0','a':'1',\n",
    "                      'b':'2','c':'3','d':'4','e':'5','f':'6','g':'7','h':'8','i':'9','j':'a',\n",
    "                      'k':'b','l':'c','m':'d','n':'e','o':'f','p':'g','q':'h','r':'i','s':'j',\n",
    "                      't':'k','u':'l','v':'m','w':'n','x':'o','y':'p','z':'q'}\n",
    "\n",
    "orig_file = open('Plain_Text_File.txt','r')\n",
    "file_read = orig_file.read()    \n",
    "orig_file.close()\n",
    "encrypt_file = open('ENCRYPTED_Plain_Text_File.txt','w')\n",
    "\n",
    "for ch in file_read:\n",
    "    if ch in encryption_library:\n",
    "        encrypt_file.write(encryption_library[ch])\n",
    "    else:\n",
    "        encrypt_file.write(ch)\n",
    "\n",
    "encrypt_file.close()\n",
    "encrypt_file = open('Plain_Text_File.txt','r')\n",
    "file_read = encrypt_file.read()\n",
    "encrypt_file.close()\n",
    "codes_items = encryption_library.items()\n",
    "\n",
    "for ch in file_read:\n",
    "    if not ch in encryption_library.values() or ch == '.' or ch == ',' or ch == '!':\n",
    "        print(ch)\n",
    "    else:\n",
    "        for k,v in codes_items:\n",
    "            if ch == v and ch != '.':\n",
    "                print(k,end='')"
   ]
  }
 ],
 "metadata": {
  "kernelspec": {
   "display_name": "Python 3",
   "language": "python",
   "name": "python3"
  },
  "language_info": {
   "codemirror_mode": {
    "name": "ipython",
    "version": 3
   },
   "file_extension": ".py",
   "mimetype": "text/x-python",
   "name": "python",
   "nbconvert_exporter": "python",
   "pygments_lexer": "ipython3",
   "version": "3.8.8"
  }
 },
 "nbformat": 4,
 "nbformat_minor": 5
}
