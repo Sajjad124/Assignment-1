{
 "cells": [
  {
   "cell_type": "code",
   "execution_count": null,
   "id": "4954bb52",
   "metadata": {},
   "outputs": [],
   "source": [
    "Write a program that creates a dictionary containing course numbers and the room numbers of the rooms where the courses meet. The dictionary should have the following keyvalue pairs:\n",
    "\n",
    "Course Number (key)\tRoom Number (value)\n",
    "CS101       \t     3004\n",
    "CS102       \t     4501\n",
    "CS103       \t     6755\n",
    "NT110       \t     1244\n",
    "CM241\t1411 \n",
    "The program should also create a dictionary containing course numbers and the names of the instructors that teach each course. The dictionary should have the following key-value pairs:\n",
    "\n",
    "Course Number (key)\tInstructor (value)\n",
    "CS101\tHaynes\n",
    "CS102\tAlvarado\n",
    "CS103\tRich\n",
    "NT110\tBurke\n",
    "CM241\tLee\n",
    "The program should also create a dictionary containing course numbers and the meeting times of each course. The dictionary should have the following key-value pairs:\n",
    "\n",
    "Course Number (key)\tMeeting Time (value)\n",
    "CS101\t8:00 a.m.\n",
    "CS102\t9:00 a.m.\n",
    "CS103\t10:00 a.m.\n",
    "NT110\t11:00 a.m.\n",
    "CM241\t1:00 p.m.\n"
   ]
  },
  {
   "cell_type": "code",
   "execution_count": 19,
   "id": "3c1eb6ae",
   "metadata": {},
   "outputs": [
    {
     "name": "stdout",
     "output_type": "stream",
     "text": [
      "Course Dictionary with course and room number \n",
      "---------------------------------------------\n",
      "{'CS101': 'Haynes', 'CS102': 'Alvarado', 'CS104': 'Rich', 'NT110': 'Burke', 'CM241': 'Lee'} \n",
      "\n",
      "Course Dictionary with course and Instructor \n",
      "---------------------------------------------\n",
      "{'CS101': '3004', 'CS102': '4501', 'CS104': '6755', 'NT110': '1244', 'CM241': '1411'} \n",
      "\n",
      "Course Dictionary with course and Meeting time \n",
      "----------------------------------------------\n",
      "{'CS101': '8:00 a.m.', 'CS102': '9:00 a.m.', 'CS104': '10:00 a.m.', 'NT110': '11:00 a.m.', 'CM241': '1:00 a.m.'}\n"
     ]
    }
   ],
   "source": [
    "course_instructor = {\n",
    "    'CS101' : '3004',\n",
    "    'CS102' : '4501',\n",
    "    'CS104' : '6755',\n",
    "    'NT110' : '1244',\n",
    "    'CM241' : '1411'\n",
    "}\n",
    "course_rooms = {\n",
    "    'CS101' : 'Haynes'  , \n",
    "    'CS102' : 'Alvarado',\n",
    "    'CS104' : 'Rich'    ,\n",
    "    'NT110' : 'Burke'   ,\n",
    "    'CM241' : 'Lee'   \n",
    "}\n",
    "course_meet_time = {\n",
    "    'CS101' : '8:00 a.m.' ,\n",
    "    'CS102' : '9:00 a.m.' ,\n",
    "    'CS104' : '10:00 a.m.',\n",
    "    'NT110' : '11:00 a.m.',\n",
    "    'CM241' : '1:00 a.m.'\n",
    "}\n",
    "print(\"Course Dictionary with course and room number \",)\n",
    "print(\"---------------------------------------------\")\n",
    "print(course_rooms,\"\\n\")\n",
    "print(\"Course Dictionary with course and Instructor \",)\n",
    "print(\"---------------------------------------------\")\n",
    "print(course_instructor,\"\\n\")\n",
    "\n",
    "print(\"Course Dictionary with course and Meeting time \",)\n",
    "print(\"----------------------------------------------\")\n",
    "print(course_meet_time)"
   ]
  }
 ],
 "metadata": {
  "kernelspec": {
   "display_name": "Python 3",
   "language": "python",
   "name": "python3"
  },
  "language_info": {
   "codemirror_mode": {
    "name": "ipython",
    "version": 3
   },
   "file_extension": ".py",
   "mimetype": "text/x-python",
   "name": "python",
   "nbconvert_exporter": "python",
   "pygments_lexer": "ipython3",
   "version": "3.8.8"
  }
 },
 "nbformat": 4,
 "nbformat_minor": 5
}
