{
 "cells": [
  {
   "cell_type": "markdown",
   "id": "a9b1a327",
   "metadata": {},
   "source": [
    "# Write a function named manhattan_distance to compute Manhattan Distance between two points:"
   ]
  },
  {
   "cell_type": "code",
   "execution_count": 4,
   "id": "a230d177",
   "metadata": {},
   "outputs": [
    {
     "name": "stdout",
     "output_type": "stream",
     "text": [
      "0\n"
     ]
    }
   ],
   "source": [
    "def manhattan_distance(x1,x2,y1,y2):\n",
    "    manhattan_distance = (x1-x2)+(y1-y2)\n",
    "    print(manhattan_distance )\n",
    "manhattan_distance(2,1,4,5)"
   ]
  },
  {
   "cell_type": "markdown",
   "id": "cb8956df",
   "metadata": {},
   "source": [
    "# 2. Write a function named euclidian_distance to compute Euclidian Distance between two points:"
   ]
  },
  {
   "cell_type": "code",
   "execution_count": 14,
   "id": "59731900",
   "metadata": {},
   "outputs": [
    {
     "name": "stdout",
     "output_type": "stream",
     "text": [
      "4.123105625617661\n"
     ]
    }
   ],
   "source": [
    "import math\n",
    "def eudician_distance(x1,x2,y1,y2):\n",
    "    eudician_distance=math.sqrt((x2-x1)**2+(y2-y1)**2)  \n",
    "    print(eudician_distance)\n",
    "eudician_distance(4,5,6,10)"
   ]
  },
  {
   "cell_type": "markdown",
   "id": "fb32b0a4",
   "metadata": {},
   "source": [
    "# Pangram string is a string which contains every letter of the alphabet at least once. For example,“The quick brown fox jumps over the lazy dog” is a pangram. Write a function named is_pangram that accepts a string and returns true if the string is pangram otherwise returns false."
   ]
  },
  {
   "cell_type": "code",
   "execution_count": 17,
   "id": "5fcda158",
   "metadata": {},
   "outputs": [
    {
     "name": "stdout",
     "output_type": "stream",
     "text": [
      "Enter sentenceThe quick brown fox jumps over the lazy dog\n",
      "Pangram\n"
     ]
    }
   ],
   "source": [
    "import string\n",
    "  \n",
    "def ispangram(str):\n",
    "    alphabet = \"abcdefghijklmnopqrstuvwxyz\"\n",
    "    for char in alphabet:\n",
    "        if char not in str.lower():\n",
    "            return False\n",
    "    return True\n",
    "      \n",
    "string = input(\"Enter sentence\")\n",
    "if(ispangram(string) == True):\n",
    "    print(\"Pangram\")\n",
    "else:\n",
    "    print(\"Not Pangram\")"
   ]
  },
  {
   "cell_type": "markdown",
   "id": "97c98f4e",
   "metadata": {},
   "source": [
    "# Suppose that you are working on a financial application for Bank of Gujranwala. The financial application contains a module related to investments and returns. Your project manager assigned you the task of writing this module. For this task, you will write a simple .py file using any editor of your choice. However, Spyder is recommended. Name the file as CS-468 Artificial Intelligence Lab GIFT University, Gujranwala financemodule.py and place this file in the same directory that contains your notebook. You are required to write the following functions:\n",
    "a. interest_monthly that accepts two arguments named balance and\n",
    "annual_interest_rate. Interest on the next monthly payment can be calculated\n",
    "as:\n",
    "\n",
    "b. future_investment_value that accepts three arguments named\n",
    "investment_amount, monthly_interest_rate, and number_of_years.\n",
    "Following formula can be used to calculate the future value:\n",
    "\n",
    "After creating the module, next step is to import the module in your Jupyter Notebook file.\n",
    "Given below is a sample for importing and using your module:\n",
    "\n",
    "After importing the module, write a sample program to demonstrate both functions."
   ]
  },
  {
   "cell_type": "code",
   "execution_count": null,
   "id": "c135c38d",
   "metadata": {},
   "outputs": [],
   "source": [
    "import financemodule as fm\n",
    "balance = float(input(\"Enter Balance\"))\n",
    "annual_interest_rate = float(input(\"Enter Annual interest rate\"))\n",
    "monthly_interest     = fm.interest_monthly() \n",
    "\n",
    "\n",
    "\n"
   ]
  }
 ],
 "metadata": {
  "kernelspec": {
   "display_name": "Python 3",
   "language": "python",
   "name": "python3"
  },
  "language_info": {
   "codemirror_mode": {
    "name": "ipython",
    "version": 3
   },
   "file_extension": ".py",
   "mimetype": "text/x-python",
   "name": "python",
   "nbconvert_exporter": "python",
   "pygments_lexer": "ipython3",
   "version": "3.8.8"
  }
 },
 "nbformat": 4,
 "nbformat_minor": 5
}
