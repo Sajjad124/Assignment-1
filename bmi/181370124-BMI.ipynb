{
 "cells": [
  {
   "cell_type": "markdown",
   "id": "fdca4689",
   "metadata": {},
   "source": [
    "# a. Create four empty lists named: names, height_feet, height_meters, weight"
   ]
  },
  {
   "cell_type": "code",
   "execution_count": 13,
   "id": "9d85e1b6",
   "metadata": {},
   "outputs": [],
   "source": [
    "name         = []\n",
    "height_feet  = []\n",
    "height_meters= []\n",
    "weight       = []"
   ]
  },
  {
   "cell_type": "markdown",
   "id": "1502ed2e",
   "metadata": {},
   "source": [
    "# b. Write a function named feet_to_meter with the following header:\n",
    "\n",
    "def feet_to_meter(height)\n",
    "The above given function takes height in feet and returns the height in meters using the\n",
    "following formula:\n",
    "\n",
    "height_in_meters = height_in_feet * 0.3048\n",
    "Use the function round to round upto 2 decimals. For example, round(1.365487,2)\n",
    "rounds up to 2 decimals."
   ]
  },
  {
   "cell_type": "code",
   "execution_count": 4,
   "id": "c39555e2",
   "metadata": {},
   "outputs": [],
   "source": [
    "def feet_to_meter(height):\n",
    "    height_in_meters = height_in_feet * 0.3048\n",
    "    return round(height_in_meters,2)\n",
    "\n",
    "    "
   ]
  },
  {
   "cell_type": "markdown",
   "id": "24c994a5",
   "metadata": {},
   "source": [
    "# c. Write a function named calculate_bmi that accepts two arguments: height (in meters)\n",
    "and weight in kg and returns the BMI using the following formula:\n",
    "Use the function round to round upto 2 decimals. For example, round(1.365487,2)\n",
    "rounds up to 2 decimals."
   ]
  },
  {
   "cell_type": "code",
   "execution_count": 8,
   "id": "54e2c64d",
   "metadata": {},
   "outputs": [],
   "source": [
    "def calculate_bmi(height , weight):\n",
    "    bmi = weight/height**2\n",
    "    return round( bmi , 2 )\n",
    "    "
   ]
  },
  {
   "cell_type": "markdown",
   "id": "2f8b9a78",
   "metadata": {},
   "source": [
    "# d. Now, write a function that processes the CSV file. Name the function as process_file.\n",
    "The function has the following header:\n",
    "def process_file(filename, name, weight, height_feet)\n",
    "where name, weight, and height_feet are the lists. This function should read the csv file\n",
    "gym.csv and populates all the three lists respectively using the append method of list."
   ]
  },
  {
   "cell_type": "code",
   "execution_count": 15,
   "id": "1afa5552",
   "metadata": {},
   "outputs": [
    {
     "name": "stdout",
     "output_type": "stream",
     "text": [
      "['Ahmad,', 'Zeeshan,', 'Qasim,', 'Usman,', 'Shabbir,', 'Fahad,', 'Ali,', 'Haris,']\n",
      "['81,', '75,', '77,', '72,', '68,', '24,', '90,', '5.9,']\n",
      "['5.9', '5.8', '5.8', '5.6', '5.5', '4', '6', '77']\n"
     ]
    }
   ],
   "source": [
    "def process_file():\n",
    "    filename = open(\"gym.csv\",'r')\n",
    "    newList = []\n",
    "    \n",
    "    for line in filename:\n",
    "        number_strings = line.split() \n",
    "        numbers = [str(n) for n in number_strings] \n",
    "        newList.append(numbers)\n",
    "        name.clear()\n",
    "        weight.clear()\n",
    "        height_feet.clear()  \n",
    "    i = 1\n",
    "    while(i < len(newList)):\n",
    "        name.append(newList[i][0])\n",
    "        weight.append(newList[i][1])\n",
    "        height_feet.append(newList[i][2])\n",
    "        i+= 1\n",
    "    print(name)\n",
    "    print(weight)\n",
    "    print(height_feet)    \n",
    "process_file()\n"
   ]
  },
  {
   "cell_type": "markdown",
   "id": "92cc054b",
   "metadata": {},
   "source": [
    "# e. Now, populate the height_meters list using height_feet list. For this, you need to utilize\n",
    "the function created in step b."
   ]
  },
  {
   "cell_type": "code",
   "execution_count": 16,
   "id": "015c9dd2",
   "metadata": {},
   "outputs": [
    {
     "name": "stdout",
     "output_type": "stream",
     "text": [
      "5.9\n",
      "5.8\n",
      "5.8\n",
      "5.6\n",
      "5.5\n",
      "4\n",
      "6\n",
      "77\n"
     ]
    }
   ],
   "source": [
    "for i in range(len(height_feet)):\n",
    "    print(height_feet[i])"
   ]
  },
  {
   "cell_type": "markdown",
   "id": "f919b7cc",
   "metadata": {},
   "source": [
    "# f. Now, create an empty list named bmi. Write a loop to calculate bmi for each gym member and append to list bmi."
   ]
  },
  {
   "cell_type": "code",
   "execution_count": 95,
   "id": "dcf793d4",
   "metadata": {},
   "outputs": [
    {
     "ename": "ValueError",
     "evalue": "could not convert string to float: '81,'",
     "output_type": "error",
     "traceback": [
      "\u001b[1;31m---------------------------------------------------------------------------\u001b[0m",
      "\u001b[1;31mValueError\u001b[0m                                Traceback (most recent call last)",
      "\u001b[1;32m<ipython-input-95-7fc174317f8a>\u001b[0m in \u001b[0;36m<module>\u001b[1;34m\u001b[0m\n\u001b[0;32m      2\u001b[0m \u001b[1;33m\u001b[0m\u001b[0m\n\u001b[0;32m      3\u001b[0m \u001b[1;32mfor\u001b[0m \u001b[0mi\u001b[0m \u001b[1;32min\u001b[0m \u001b[0mrange\u001b[0m\u001b[1;33m(\u001b[0m\u001b[1;36m7\u001b[0m\u001b[1;33m)\u001b[0m\u001b[1;33m:\u001b[0m\u001b[1;33m\u001b[0m\u001b[1;33m\u001b[0m\u001b[0m\n\u001b[1;32m----> 4\u001b[1;33m     \u001b[0mprint\u001b[0m\u001b[1;33m(\u001b[0m\u001b[0mfloat\u001b[0m\u001b[1;33m(\u001b[0m\u001b[0mweight\u001b[0m\u001b[1;33m[\u001b[0m\u001b[0mi\u001b[0m\u001b[1;33m]\u001b[0m\u001b[1;33m)\u001b[0m\u001b[1;33m/\u001b[0m\u001b[0mfloat\u001b[0m\u001b[1;33m(\u001b[0m\u001b[0mheight_feet\u001b[0m\u001b[1;33m[\u001b[0m\u001b[0mi\u001b[0m\u001b[1;33m]\u001b[0m\u001b[1;33m)\u001b[0m\u001b[1;33m)\u001b[0m\u001b[1;33m\u001b[0m\u001b[1;33m\u001b[0m\u001b[0m\n\u001b[0m\u001b[0;32m      5\u001b[0m \u001b[0mprint\u001b[0m\u001b[1;33m(\u001b[0m\u001b[0mbmi\u001b[0m\u001b[1;33m)\u001b[0m\u001b[1;33m\u001b[0m\u001b[1;33m\u001b[0m\u001b[0m\n",
      "\u001b[1;31mValueError\u001b[0m: could not convert string to float: '81,'"
     ]
    }
   ],
   "source": [
    "bmi = []\n",
    "\n",
    "for i in range(7):\n",
    "    print(float(weight[i])/float(height_feet[i]))\n",
    "print(bmi)"
   ]
  },
  {
   "cell_type": "markdown",
   "id": "090938ae",
   "metadata": {},
   "source": [
    "# g. Now, create a function named write_to_file that accepts two arguments names list and\n",
    "bmi list. This function should write the name and bmi of each member to a file named\n",
    "bmi_output.txt in the following format:"
   ]
  },
  {
   "cell_type": "code",
   "execution_count": 57,
   "id": "e0a4ee65",
   "metadata": {},
   "outputs": [],
   "source": [
    "def write_to_file(name , bmi):\n",
    "    \n",
    "    strnames= str(name)\n",
    "    strbmi  = str(bmi)\n",
    "    \n",
    "    file = open(\"bmi_output.txt\", \"a\")\n",
    "    file.truncate(0)\n",
    "    file.write(strnames+strbmi)\n",
    "    file.close()\n",
    "write_to_file(name,bmi)\n",
    "    "
   ]
  },
  {
   "cell_type": "code",
   "execution_count": null,
   "id": "57c95808",
   "metadata": {},
   "outputs": [],
   "source": []
  }
 ],
 "metadata": {
  "kernelspec": {
   "display_name": "Python 3",
   "language": "python",
   "name": "python3"
  },
  "language_info": {
   "codemirror_mode": {
    "name": "ipython",
    "version": 3
   },
   "file_extension": ".py",
   "mimetype": "text/x-python",
   "name": "python",
   "nbconvert_exporter": "python",
   "pygments_lexer": "ipython3",
   "version": "3.8.8"
  }
 },
 "nbformat": 4,
 "nbformat_minor": 5
}
